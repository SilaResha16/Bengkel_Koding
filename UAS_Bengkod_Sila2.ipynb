{
  "nbformat": 4,
  "nbformat_minor": 0,
  "metadata": {
    "colab": {
      "provenance": []
    },
    "kernelspec": {
      "name": "python3",
      "display_name": "Python 3"
    },
    "language_info": {
      "name": "python"
    }
  },
  "cells": [
    {
      "cell_type": "markdown",
      "source": [
        "#Import Library"
      ],
      "metadata": {
        "id": "odqRaOohU72n"
      }
    },
    {
      "cell_type": "code",
      "execution_count": 1,
      "metadata": {
        "id": "viuLZL8IUJFF"
      },
      "outputs": [],
      "source": [
        "import numpy as np\n",
        "import pandas as pd\n",
        "import matplotlib.pyplot as plt\n",
        "import seaborn as sns"
      ]
    },
    {
      "cell_type": "markdown",
      "source": [
        "# Load Dataset"
      ],
      "metadata": {
        "id": "ngu4NQwtVB16"
      }
    },
    {
      "cell_type": "code",
      "source": [
        "df = pd.read_csv('/content/ObesityDataSet.csv')"
      ],
      "metadata": {
        "id": "SzZ9Hm3MVEkY"
      },
      "execution_count": 2,
      "outputs": []
    },
    {
      "cell_type": "code",
      "source": [
        "df.head()"
      ],
      "metadata": {
        "colab": {
          "base_uri": "https://localhost:8080/",
          "height": 226
        },
        "id": "0vAMPnnpVLsG",
        "outputId": "082376aa-bcc4-4961-9ff8-0f61c5c539c3"
      },
      "execution_count": 3,
      "outputs": [
        {
          "output_type": "execute_result",
          "data": {
            "text/plain": [
              "  Age  Gender Height Weight        CALC FAVC FCVC NCP  SCC SMOKE CH2O  \\\n",
              "0  21  Female   1.62     64          no   no    2   3   no    no    2   \n",
              "1  21  Female   1.52     56   Sometimes   no    3   3  yes   yes    3   \n",
              "2  23    Male    1.8     77  Frequently   no    2   3   no    no    2   \n",
              "3  27    Male    1.8     87  Frequently   no    3   3   no    no    2   \n",
              "4  22    Male   1.78   89.8   Sometimes   no    2   1   no    no    2   \n",
              "\n",
              "  family_history_with_overweight FAF TUE       CAEC                 MTRANS  \\\n",
              "0                            yes   0   1  Sometimes  Public_Transportation   \n",
              "1                            yes   3   0  Sometimes  Public_Transportation   \n",
              "2                            yes   2   1  Sometimes  Public_Transportation   \n",
              "3                             no   2   0  Sometimes                Walking   \n",
              "4                             no   0   0  Sometimes  Public_Transportation   \n",
              "\n",
              "            NObeyesdad  \n",
              "0        Normal_Weight  \n",
              "1        Normal_Weight  \n",
              "2        Normal_Weight  \n",
              "3   Overweight_Level_I  \n",
              "4  Overweight_Level_II  "
            ],
            "text/html": [
              "\n",
              "  <div id=\"df-03fa6aae-40e5-40cb-b206-b6e84f5dae30\" class=\"colab-df-container\">\n",
              "    <div>\n",
              "<style scoped>\n",
              "    .dataframe tbody tr th:only-of-type {\n",
              "        vertical-align: middle;\n",
              "    }\n",
              "\n",
              "    .dataframe tbody tr th {\n",
              "        vertical-align: top;\n",
              "    }\n",
              "\n",
              "    .dataframe thead th {\n",
              "        text-align: right;\n",
              "    }\n",
              "</style>\n",
              "<table border=\"1\" class=\"dataframe\">\n",
              "  <thead>\n",
              "    <tr style=\"text-align: right;\">\n",
              "      <th></th>\n",
              "      <th>Age</th>\n",
              "      <th>Gender</th>\n",
              "      <th>Height</th>\n",
              "      <th>Weight</th>\n",
              "      <th>CALC</th>\n",
              "      <th>FAVC</th>\n",
              "      <th>FCVC</th>\n",
              "      <th>NCP</th>\n",
              "      <th>SCC</th>\n",
              "      <th>SMOKE</th>\n",
              "      <th>CH2O</th>\n",
              "      <th>family_history_with_overweight</th>\n",
              "      <th>FAF</th>\n",
              "      <th>TUE</th>\n",
              "      <th>CAEC</th>\n",
              "      <th>MTRANS</th>\n",
              "      <th>NObeyesdad</th>\n",
              "    </tr>\n",
              "  </thead>\n",
              "  <tbody>\n",
              "    <tr>\n",
              "      <th>0</th>\n",
              "      <td>21</td>\n",
              "      <td>Female</td>\n",
              "      <td>1.62</td>\n",
              "      <td>64</td>\n",
              "      <td>no</td>\n",
              "      <td>no</td>\n",
              "      <td>2</td>\n",
              "      <td>3</td>\n",
              "      <td>no</td>\n",
              "      <td>no</td>\n",
              "      <td>2</td>\n",
              "      <td>yes</td>\n",
              "      <td>0</td>\n",
              "      <td>1</td>\n",
              "      <td>Sometimes</td>\n",
              "      <td>Public_Transportation</td>\n",
              "      <td>Normal_Weight</td>\n",
              "    </tr>\n",
              "    <tr>\n",
              "      <th>1</th>\n",
              "      <td>21</td>\n",
              "      <td>Female</td>\n",
              "      <td>1.52</td>\n",
              "      <td>56</td>\n",
              "      <td>Sometimes</td>\n",
              "      <td>no</td>\n",
              "      <td>3</td>\n",
              "      <td>3</td>\n",
              "      <td>yes</td>\n",
              "      <td>yes</td>\n",
              "      <td>3</td>\n",
              "      <td>yes</td>\n",
              "      <td>3</td>\n",
              "      <td>0</td>\n",
              "      <td>Sometimes</td>\n",
              "      <td>Public_Transportation</td>\n",
              "      <td>Normal_Weight</td>\n",
              "    </tr>\n",
              "    <tr>\n",
              "      <th>2</th>\n",
              "      <td>23</td>\n",
              "      <td>Male</td>\n",
              "      <td>1.8</td>\n",
              "      <td>77</td>\n",
              "      <td>Frequently</td>\n",
              "      <td>no</td>\n",
              "      <td>2</td>\n",
              "      <td>3</td>\n",
              "      <td>no</td>\n",
              "      <td>no</td>\n",
              "      <td>2</td>\n",
              "      <td>yes</td>\n",
              "      <td>2</td>\n",
              "      <td>1</td>\n",
              "      <td>Sometimes</td>\n",
              "      <td>Public_Transportation</td>\n",
              "      <td>Normal_Weight</td>\n",
              "    </tr>\n",
              "    <tr>\n",
              "      <th>3</th>\n",
              "      <td>27</td>\n",
              "      <td>Male</td>\n",
              "      <td>1.8</td>\n",
              "      <td>87</td>\n",
              "      <td>Frequently</td>\n",
              "      <td>no</td>\n",
              "      <td>3</td>\n",
              "      <td>3</td>\n",
              "      <td>no</td>\n",
              "      <td>no</td>\n",
              "      <td>2</td>\n",
              "      <td>no</td>\n",
              "      <td>2</td>\n",
              "      <td>0</td>\n",
              "      <td>Sometimes</td>\n",
              "      <td>Walking</td>\n",
              "      <td>Overweight_Level_I</td>\n",
              "    </tr>\n",
              "    <tr>\n",
              "      <th>4</th>\n",
              "      <td>22</td>\n",
              "      <td>Male</td>\n",
              "      <td>1.78</td>\n",
              "      <td>89.8</td>\n",
              "      <td>Sometimes</td>\n",
              "      <td>no</td>\n",
              "      <td>2</td>\n",
              "      <td>1</td>\n",
              "      <td>no</td>\n",
              "      <td>no</td>\n",
              "      <td>2</td>\n",
              "      <td>no</td>\n",
              "      <td>0</td>\n",
              "      <td>0</td>\n",
              "      <td>Sometimes</td>\n",
              "      <td>Public_Transportation</td>\n",
              "      <td>Overweight_Level_II</td>\n",
              "    </tr>\n",
              "  </tbody>\n",
              "</table>\n",
              "</div>\n",
              "    <div class=\"colab-df-buttons\">\n",
              "\n",
              "  <div class=\"colab-df-container\">\n",
              "    <button class=\"colab-df-convert\" onclick=\"convertToInteractive('df-03fa6aae-40e5-40cb-b206-b6e84f5dae30')\"\n",
              "            title=\"Convert this dataframe to an interactive table.\"\n",
              "            style=\"display:none;\">\n",
              "\n",
              "  <svg xmlns=\"http://www.w3.org/2000/svg\" height=\"24px\" viewBox=\"0 -960 960 960\">\n",
              "    <path d=\"M120-120v-720h720v720H120Zm60-500h600v-160H180v160Zm220 220h160v-160H400v160Zm0 220h160v-160H400v160ZM180-400h160v-160H180v160Zm440 0h160v-160H620v160ZM180-180h160v-160H180v160Zm440 0h160v-160H620v160Z\"/>\n",
              "  </svg>\n",
              "    </button>\n",
              "\n",
              "  <style>\n",
              "    .colab-df-container {\n",
              "      display:flex;\n",
              "      gap: 12px;\n",
              "    }\n",
              "\n",
              "    .colab-df-convert {\n",
              "      background-color: #E8F0FE;\n",
              "      border: none;\n",
              "      border-radius: 50%;\n",
              "      cursor: pointer;\n",
              "      display: none;\n",
              "      fill: #1967D2;\n",
              "      height: 32px;\n",
              "      padding: 0 0 0 0;\n",
              "      width: 32px;\n",
              "    }\n",
              "\n",
              "    .colab-df-convert:hover {\n",
              "      background-color: #E2EBFA;\n",
              "      box-shadow: 0px 1px 2px rgba(60, 64, 67, 0.3), 0px 1px 3px 1px rgba(60, 64, 67, 0.15);\n",
              "      fill: #174EA6;\n",
              "    }\n",
              "\n",
              "    .colab-df-buttons div {\n",
              "      margin-bottom: 4px;\n",
              "    }\n",
              "\n",
              "    [theme=dark] .colab-df-convert {\n",
              "      background-color: #3B4455;\n",
              "      fill: #D2E3FC;\n",
              "    }\n",
              "\n",
              "    [theme=dark] .colab-df-convert:hover {\n",
              "      background-color: #434B5C;\n",
              "      box-shadow: 0px 1px 3px 1px rgba(0, 0, 0, 0.15);\n",
              "      filter: drop-shadow(0px 1px 2px rgba(0, 0, 0, 0.3));\n",
              "      fill: #FFFFFF;\n",
              "    }\n",
              "  </style>\n",
              "\n",
              "    <script>\n",
              "      const buttonEl =\n",
              "        document.querySelector('#df-03fa6aae-40e5-40cb-b206-b6e84f5dae30 button.colab-df-convert');\n",
              "      buttonEl.style.display =\n",
              "        google.colab.kernel.accessAllowed ? 'block' : 'none';\n",
              "\n",
              "      async function convertToInteractive(key) {\n",
              "        const element = document.querySelector('#df-03fa6aae-40e5-40cb-b206-b6e84f5dae30');\n",
              "        const dataTable =\n",
              "          await google.colab.kernel.invokeFunction('convertToInteractive',\n",
              "                                                    [key], {});\n",
              "        if (!dataTable) return;\n",
              "\n",
              "        const docLinkHtml = 'Like what you see? Visit the ' +\n",
              "          '<a target=\"_blank\" href=https://colab.research.google.com/notebooks/data_table.ipynb>data table notebook</a>'\n",
              "          + ' to learn more about interactive tables.';\n",
              "        element.innerHTML = '';\n",
              "        dataTable['output_type'] = 'display_data';\n",
              "        await google.colab.output.renderOutput(dataTable, element);\n",
              "        const docLink = document.createElement('div');\n",
              "        docLink.innerHTML = docLinkHtml;\n",
              "        element.appendChild(docLink);\n",
              "      }\n",
              "    </script>\n",
              "  </div>\n",
              "\n",
              "\n",
              "    <div id=\"df-ab6c5bbf-fa09-4df5-8b9f-e2b54ba9a0c9\">\n",
              "      <button class=\"colab-df-quickchart\" onclick=\"quickchart('df-ab6c5bbf-fa09-4df5-8b9f-e2b54ba9a0c9')\"\n",
              "                title=\"Suggest charts\"\n",
              "                style=\"display:none;\">\n",
              "\n",
              "<svg xmlns=\"http://www.w3.org/2000/svg\" height=\"24px\"viewBox=\"0 0 24 24\"\n",
              "     width=\"24px\">\n",
              "    <g>\n",
              "        <path d=\"M19 3H5c-1.1 0-2 .9-2 2v14c0 1.1.9 2 2 2h14c1.1 0 2-.9 2-2V5c0-1.1-.9-2-2-2zM9 17H7v-7h2v7zm4 0h-2V7h2v10zm4 0h-2v-4h2v4z\"/>\n",
              "    </g>\n",
              "</svg>\n",
              "      </button>\n",
              "\n",
              "<style>\n",
              "  .colab-df-quickchart {\n",
              "      --bg-color: #E8F0FE;\n",
              "      --fill-color: #1967D2;\n",
              "      --hover-bg-color: #E2EBFA;\n",
              "      --hover-fill-color: #174EA6;\n",
              "      --disabled-fill-color: #AAA;\n",
              "      --disabled-bg-color: #DDD;\n",
              "  }\n",
              "\n",
              "  [theme=dark] .colab-df-quickchart {\n",
              "      --bg-color: #3B4455;\n",
              "      --fill-color: #D2E3FC;\n",
              "      --hover-bg-color: #434B5C;\n",
              "      --hover-fill-color: #FFFFFF;\n",
              "      --disabled-bg-color: #3B4455;\n",
              "      --disabled-fill-color: #666;\n",
              "  }\n",
              "\n",
              "  .colab-df-quickchart {\n",
              "    background-color: var(--bg-color);\n",
              "    border: none;\n",
              "    border-radius: 50%;\n",
              "    cursor: pointer;\n",
              "    display: none;\n",
              "    fill: var(--fill-color);\n",
              "    height: 32px;\n",
              "    padding: 0;\n",
              "    width: 32px;\n",
              "  }\n",
              "\n",
              "  .colab-df-quickchart:hover {\n",
              "    background-color: var(--hover-bg-color);\n",
              "    box-shadow: 0 1px 2px rgba(60, 64, 67, 0.3), 0 1px 3px 1px rgba(60, 64, 67, 0.15);\n",
              "    fill: var(--button-hover-fill-color);\n",
              "  }\n",
              "\n",
              "  .colab-df-quickchart-complete:disabled,\n",
              "  .colab-df-quickchart-complete:disabled:hover {\n",
              "    background-color: var(--disabled-bg-color);\n",
              "    fill: var(--disabled-fill-color);\n",
              "    box-shadow: none;\n",
              "  }\n",
              "\n",
              "  .colab-df-spinner {\n",
              "    border: 2px solid var(--fill-color);\n",
              "    border-color: transparent;\n",
              "    border-bottom-color: var(--fill-color);\n",
              "    animation:\n",
              "      spin 1s steps(1) infinite;\n",
              "  }\n",
              "\n",
              "  @keyframes spin {\n",
              "    0% {\n",
              "      border-color: transparent;\n",
              "      border-bottom-color: var(--fill-color);\n",
              "      border-left-color: var(--fill-color);\n",
              "    }\n",
              "    20% {\n",
              "      border-color: transparent;\n",
              "      border-left-color: var(--fill-color);\n",
              "      border-top-color: var(--fill-color);\n",
              "    }\n",
              "    30% {\n",
              "      border-color: transparent;\n",
              "      border-left-color: var(--fill-color);\n",
              "      border-top-color: var(--fill-color);\n",
              "      border-right-color: var(--fill-color);\n",
              "    }\n",
              "    40% {\n",
              "      border-color: transparent;\n",
              "      border-right-color: var(--fill-color);\n",
              "      border-top-color: var(--fill-color);\n",
              "    }\n",
              "    60% {\n",
              "      border-color: transparent;\n",
              "      border-right-color: var(--fill-color);\n",
              "    }\n",
              "    80% {\n",
              "      border-color: transparent;\n",
              "      border-right-color: var(--fill-color);\n",
              "      border-bottom-color: var(--fill-color);\n",
              "    }\n",
              "    90% {\n",
              "      border-color: transparent;\n",
              "      border-bottom-color: var(--fill-color);\n",
              "    }\n",
              "  }\n",
              "</style>\n",
              "\n",
              "      <script>\n",
              "        async function quickchart(key) {\n",
              "          const quickchartButtonEl =\n",
              "            document.querySelector('#' + key + ' button');\n",
              "          quickchartButtonEl.disabled = true;  // To prevent multiple clicks.\n",
              "          quickchartButtonEl.classList.add('colab-df-spinner');\n",
              "          try {\n",
              "            const charts = await google.colab.kernel.invokeFunction(\n",
              "                'suggestCharts', [key], {});\n",
              "          } catch (error) {\n",
              "            console.error('Error during call to suggestCharts:', error);\n",
              "          }\n",
              "          quickchartButtonEl.classList.remove('colab-df-spinner');\n",
              "          quickchartButtonEl.classList.add('colab-df-quickchart-complete');\n",
              "        }\n",
              "        (() => {\n",
              "          let quickchartButtonEl =\n",
              "            document.querySelector('#df-ab6c5bbf-fa09-4df5-8b9f-e2b54ba9a0c9 button');\n",
              "          quickchartButtonEl.style.display =\n",
              "            google.colab.kernel.accessAllowed ? 'block' : 'none';\n",
              "        })();\n",
              "      </script>\n",
              "    </div>\n",
              "\n",
              "    </div>\n",
              "  </div>\n"
            ],
            "application/vnd.google.colaboratory.intrinsic+json": {
              "type": "dataframe",
              "variable_name": "df",
              "summary": "{\n  \"name\": \"df\",\n  \"rows\": 2111,\n  \"fields\": [\n    {\n      \"column\": \"Age\",\n      \"properties\": {\n        \"dtype\": \"string\",\n        \"num_unique_values\": 1394,\n        \"samples\": [\n          \"21.012569\",\n          \"30.577944\",\n          \"30.002029\"\n        ],\n        \"semantic_type\": \"\",\n        \"description\": \"\"\n      }\n    },\n    {\n      \"column\": \"Gender\",\n      \"properties\": {\n        \"dtype\": \"category\",\n        \"num_unique_values\": 3,\n        \"samples\": [\n          \"Female\",\n          \"Male\",\n          \"?\"\n        ],\n        \"semantic_type\": \"\",\n        \"description\": \"\"\n      }\n    },\n    {\n      \"column\": \"Height\",\n      \"properties\": {\n        \"dtype\": \"string\",\n        \"num_unique_values\": 1562,\n        \"samples\": [\n          \"1.817917\",\n          \"1.699793\",\n          \"1.508908\"\n        ],\n        \"semantic_type\": \"\",\n        \"description\": \"\"\n      }\n    },\n    {\n      \"column\": \"Weight\",\n      \"properties\": {\n        \"dtype\": \"string\",\n        \"num_unique_values\": 1518,\n        \"samples\": [\n          \"49.105025\",\n          \"109.900472\",\n          \"104.585783\"\n        ],\n        \"semantic_type\": \"\",\n        \"description\": \"\"\n      }\n    },\n    {\n      \"column\": \"CALC\",\n      \"properties\": {\n        \"dtype\": \"category\",\n        \"num_unique_values\": 5,\n        \"samples\": [\n          \"Sometimes\",\n          \"Always\",\n          \"Frequently\"\n        ],\n        \"semantic_type\": \"\",\n        \"description\": \"\"\n      }\n    },\n    {\n      \"column\": \"FAVC\",\n      \"properties\": {\n        \"dtype\": \"category\",\n        \"num_unique_values\": 3,\n        \"samples\": [\n          \"no\",\n          \"yes\",\n          \"?\"\n        ],\n        \"semantic_type\": \"\",\n        \"description\": \"\"\n      }\n    },\n    {\n      \"column\": \"FCVC\",\n      \"properties\": {\n        \"dtype\": \"category\",\n        \"num_unique_values\": 808,\n        \"samples\": [\n          \"2.535154\",\n          \"2.951591\",\n          \"2.971588\"\n        ],\n        \"semantic_type\": \"\",\n        \"description\": \"\"\n      }\n    },\n    {\n      \"column\": \"NCP\",\n      \"properties\": {\n        \"dtype\": \"category\",\n        \"num_unique_values\": 637,\n        \"samples\": [\n          \"2.812283\",\n          \"2.118153\",\n          \"3.821168\"\n        ],\n        \"semantic_type\": \"\",\n        \"description\": \"\"\n      }\n    },\n    {\n      \"column\": \"SCC\",\n      \"properties\": {\n        \"dtype\": \"category\",\n        \"num_unique_values\": 3,\n        \"samples\": [\n          \"no\",\n          \"yes\",\n          \"?\"\n        ],\n        \"semantic_type\": \"\",\n        \"description\": \"\"\n      }\n    },\n    {\n      \"column\": \"SMOKE\",\n      \"properties\": {\n        \"dtype\": \"category\",\n        \"num_unique_values\": 3,\n        \"samples\": [\n          \"no\",\n          \"yes\",\n          \"?\"\n        ],\n        \"semantic_type\": \"\",\n        \"description\": \"\"\n      }\n    },\n    {\n      \"column\": \"CH2O\",\n      \"properties\": {\n        \"dtype\": \"string\",\n        \"num_unique_values\": 1263,\n        \"samples\": [\n          \"2.395387\",\n          \"1.01378\",\n          \"2.03415\"\n        ],\n        \"semantic_type\": \"\",\n        \"description\": \"\"\n      }\n    },\n    {\n      \"column\": \"family_history_with_overweight\",\n      \"properties\": {\n        \"dtype\": \"category\",\n        \"num_unique_values\": 3,\n        \"samples\": [\n          \"yes\",\n          \"no\",\n          \"?\"\n        ],\n        \"semantic_type\": \"\",\n        \"description\": \"\"\n      }\n    },\n    {\n      \"column\": \"FAF\",\n      \"properties\": {\n        \"dtype\": \"string\",\n        \"num_unique_values\": 1186,\n        \"samples\": [\n          \"1.609801\",\n          \"1.194898\",\n          \"1.34139\"\n        ],\n        \"semantic_type\": \"\",\n        \"description\": \"\"\n      }\n    },\n    {\n      \"column\": \"TUE\",\n      \"properties\": {\n        \"dtype\": \"string\",\n        \"num_unique_values\": 1130,\n        \"samples\": [\n          \"1.89933\",\n          \"0.930836\",\n          \"0.173232\"\n        ],\n        \"semantic_type\": \"\",\n        \"description\": \"\"\n      }\n    },\n    {\n      \"column\": \"CAEC\",\n      \"properties\": {\n        \"dtype\": \"category\",\n        \"num_unique_values\": 5,\n        \"samples\": [\n          \"Frequently\",\n          \"?\",\n          \"Always\"\n        ],\n        \"semantic_type\": \"\",\n        \"description\": \"\"\n      }\n    },\n    {\n      \"column\": \"MTRANS\",\n      \"properties\": {\n        \"dtype\": \"category\",\n        \"num_unique_values\": 6,\n        \"samples\": [\n          \"Public_Transportation\",\n          \"Walking\",\n          \"?\"\n        ],\n        \"semantic_type\": \"\",\n        \"description\": \"\"\n      }\n    },\n    {\n      \"column\": \"NObeyesdad\",\n      \"properties\": {\n        \"dtype\": \"category\",\n        \"num_unique_values\": 7,\n        \"samples\": [\n          \"Normal_Weight\",\n          \"Overweight_Level_I\",\n          \"Obesity_Type_II\"\n        ],\n        \"semantic_type\": \"\",\n        \"description\": \"\"\n      }\n    }\n  ]\n}"
            }
          },
          "metadata": {},
          "execution_count": 3
        }
      ]
    },
    {
      "cell_type": "markdown",
      "source": [
        "# Identify the shape of dataset"
      ],
      "metadata": {
        "id": "SXM2IGETVMU_"
      }
    },
    {
      "cell_type": "code",
      "source": [
        "df.shape"
      ],
      "metadata": {
        "colab": {
          "base_uri": "https://localhost:8080/"
        },
        "id": "hMXPc3z4VRc3",
        "outputId": "9d09d9de-5e18-47b7-c7bd-b03c404fde59"
      },
      "execution_count": 4,
      "outputs": [
        {
          "output_type": "execute_result",
          "data": {
            "text/plain": [
              "(2111, 17)"
            ]
          },
          "metadata": {},
          "execution_count": 4
        }
      ]
    },
    {
      "cell_type": "markdown",
      "source": [
        "# list of columns\n",
        "\n"
      ],
      "metadata": {
        "id": "g1Or9_O1VYek"
      }
    },
    {
      "cell_type": "code",
      "source": [
        "df.columns"
      ],
      "metadata": {
        "colab": {
          "base_uri": "https://localhost:8080/"
        },
        "id": "r1A3L9zVVUxF",
        "outputId": "c9a0c652-f87e-445d-9e1a-5988b811113e"
      },
      "execution_count": 5,
      "outputs": [
        {
          "output_type": "execute_result",
          "data": {
            "text/plain": [
              "Index(['Age', 'Gender', 'Height', 'Weight', 'CALC', 'FAVC', 'FCVC', 'NCP',\n",
              "       'SCC', 'SMOKE', 'CH2O', 'family_history_with_overweight', 'FAF', 'TUE',\n",
              "       'CAEC', 'MTRANS', 'NObeyesdad'],\n",
              "      dtype='object')"
            ]
          },
          "metadata": {},
          "execution_count": 5
        }
      ]
    },
    {
      "cell_type": "markdown",
      "source": [
        "# Basic dataset information"
      ],
      "metadata": {
        "id": "PzOgaEkoV5i7"
      }
    },
    {
      "cell_type": "code",
      "source": [
        "df.info()"
      ],
      "metadata": {
        "colab": {
          "base_uri": "https://localhost:8080/"
        },
        "id": "5fDcGLpiWA6D",
        "outputId": "ad274bd6-9345-4a88-de22-e13b15f848cd"
      },
      "execution_count": 6,
      "outputs": [
        {
          "output_type": "stream",
          "name": "stdout",
          "text": [
            "<class 'pandas.core.frame.DataFrame'>\n",
            "RangeIndex: 2111 entries, 0 to 2110\n",
            "Data columns (total 17 columns):\n",
            " #   Column                          Non-Null Count  Dtype \n",
            "---  ------                          --------------  ----- \n",
            " 0   Age                             2097 non-null   object\n",
            " 1   Gender                          2102 non-null   object\n",
            " 2   Height                          2099 non-null   object\n",
            " 3   Weight                          2100 non-null   object\n",
            " 4   CALC                            2106 non-null   object\n",
            " 5   FAVC                            2100 non-null   object\n",
            " 6   FCVC                            2103 non-null   object\n",
            " 7   NCP                             2099 non-null   object\n",
            " 8   SCC                             2101 non-null   object\n",
            " 9   SMOKE                           2106 non-null   object\n",
            " 10  CH2O                            2105 non-null   object\n",
            " 11  family_history_with_overweight  2098 non-null   object\n",
            " 12  FAF                             2103 non-null   object\n",
            " 13  TUE                             2102 non-null   object\n",
            " 14  CAEC                            2100 non-null   object\n",
            " 15  MTRANS                          2105 non-null   object\n",
            " 16  NObeyesdad                      2111 non-null   object\n",
            "dtypes: object(17)\n",
            "memory usage: 280.5+ KB\n"
          ]
        }
      ]
    },
    {
      "cell_type": "markdown",
      "source": [
        "# Identify missing values"
      ],
      "metadata": {
        "id": "-q4wab7vWQWT"
      }
    },
    {
      "cell_type": "code",
      "source": [
        "print(df.dtypes)"
      ],
      "metadata": {
        "colab": {
          "base_uri": "https://localhost:8080/"
        },
        "id": "1eEGr_IeWTCO",
        "outputId": "cf071bef-7016-4483-8ccc-b18e14eb343f"
      },
      "execution_count": 7,
      "outputs": [
        {
          "output_type": "stream",
          "name": "stdout",
          "text": [
            "Age                               object\n",
            "Gender                            object\n",
            "Height                            object\n",
            "Weight                            object\n",
            "CALC                              object\n",
            "FAVC                              object\n",
            "FCVC                              object\n",
            "NCP                               object\n",
            "SCC                               object\n",
            "SMOKE                             object\n",
            "CH2O                              object\n",
            "family_history_with_overweight    object\n",
            "FAF                               object\n",
            "TUE                               object\n",
            "CAEC                              object\n",
            "MTRANS                            object\n",
            "NObeyesdad                        object\n",
            "dtype: object\n"
          ]
        }
      ]
    },
    {
      "cell_type": "code",
      "source": [
        "print(df.isnull().sum())"
      ],
      "metadata": {
        "colab": {
          "base_uri": "https://localhost:8080/"
        },
        "id": "C2A3hgo_WZF-",
        "outputId": "94246c93-a2ff-4aca-b327-af49a4bd39e9"
      },
      "execution_count": 8,
      "outputs": [
        {
          "output_type": "stream",
          "name": "stdout",
          "text": [
            "Age                               14\n",
            "Gender                             9\n",
            "Height                            12\n",
            "Weight                            11\n",
            "CALC                               5\n",
            "FAVC                              11\n",
            "FCVC                               8\n",
            "NCP                               12\n",
            "SCC                               10\n",
            "SMOKE                              5\n",
            "CH2O                               6\n",
            "family_history_with_overweight    13\n",
            "FAF                                8\n",
            "TUE                                9\n",
            "CAEC                              11\n",
            "MTRANS                             6\n",
            "NObeyesdad                         0\n",
            "dtype: int64\n"
          ]
        }
      ]
    },
    {
      "cell_type": "code",
      "source": [
        "for col in df.columns:\n",
        "    print(f\"Kolom: {col} - Jumlah Nilai Unik: {df[col].nunique()}\")\n",
        "    print(f\"Nilai unik: {df[col].unique()}\")\n",
        "    print(\"-\" * 40)"
      ],
      "metadata": {
        "colab": {
          "base_uri": "https://localhost:8080/"
        },
        "id": "r0cPrW6KWZ4x",
        "outputId": "a000735b-5c5d-409e-a572-c0e28e9022d2"
      },
      "execution_count": 9,
      "outputs": [
        {
          "output_type": "stream",
          "name": "stdout",
          "text": [
            "Kolom: Age - Jumlah Nilai Unik: 1394\n",
            "Nilai unik: ['21' '23' '27' ... '22.524036' '24.361936' '23.664709']\n",
            "----------------------------------------\n",
            "Kolom: Gender - Jumlah Nilai Unik: 3\n",
            "Nilai unik: ['Female' 'Male' '?' nan]\n",
            "----------------------------------------\n",
            "Kolom: Height - Jumlah Nilai Unik: 1562\n",
            "Nilai unik: ['1.62' '1.52' '1.8' ... '1.752206' '1.73945' '1.738836']\n",
            "----------------------------------------\n",
            "Kolom: Weight - Jumlah Nilai Unik: 1518\n",
            "Nilai unik: ['64' '56' '77' ... '133.689352' '133.346641' '133.472641']\n",
            "----------------------------------------\n",
            "Kolom: CALC - Jumlah Nilai Unik: 5\n",
            "Nilai unik: ['no' 'Sometimes' 'Frequently' '?' 'Always' nan]\n",
            "----------------------------------------\n",
            "Kolom: FAVC - Jumlah Nilai Unik: 3\n",
            "Nilai unik: ['no' 'yes' '?' nan]\n",
            "----------------------------------------\n",
            "Kolom: FCVC - Jumlah Nilai Unik: 808\n",
            "Nilai unik: ['2' '3' '1' nan '?' '8.148992744163786' '8.42397392777979' '2.450218'\n",
            " '2.880161' '2.00876' '2.596579' '2.591439' '2.392665' '1.123939'\n",
            " '2.027574' '2.658112' '2.88626' '2.714447' '2.750715' '1.4925' '2.205439'\n",
            " '2.059138' '2.310423' '2.823179' '2.052932' '2.596364' '2.767731'\n",
            " '2.815157' '2.737762' '2.524428' '2.971574' '1.0816' '1.270448'\n",
            " '1.344854' '2.959658' '2.725282' '2.844607' '2.44004' '2.432302'\n",
            " '2.592247' '2.449267' '2.929889' '2.015258' '1.031149' '1.592183'\n",
            " '1.21498' '1.522001' '2.703436' '2.362918' '2.14084' '2.5596' '2.336044'\n",
            " '1.813234' '2.724285' '2.71897' '1.133844' '1.757466' '2.979383'\n",
            " '2.204914' '2.927218' '2.88853' '2.890535' '2.530066' '2.241606'\n",
            " '1.003566' '2.652779' '2.897899' '2.483979' '2.945967' '2.478891'\n",
            " '2.784464' '1.005578' '2.938031' '2.842102' '1.889199' '2.943749'\n",
            " '2.33998' '1.950742' '2.277436' '2.371338' '2.984425' '2.977018'\n",
            " '2.663421' '2.753752' '2.318355' '2.594653' '2.886157' '2.967853'\n",
            " '2.619835' '1.053534' '2.530233' '2.8813' '2.824559' '2.762325'\n",
            " '2.070964' '2.68601' '2.794197' '2.720701' '2.880792' '2.674431'\n",
            " '2.55996' '1.212908' '1.140615' '2.562409' '2.004146' '2.690754'\n",
            " '2.051283' '2.19005' '2.21498' '2.91548' '2.708965' '2.853513' '2.580872'\n",
            " '2.508835' '2.896562' '2.911877' '2.910733' '2.966126' '2.613249'\n",
            " '2.627031' '2.919751' '2.494451' '1.69427' '1.601236' '1.204855'\n",
            " '1.052699' '2.910345' '2.866383' '2.913486' '2.432886' '2.883745'\n",
            " '2.707666' '2.919584' '2.969205' '2.486189' '1.642241' '1.567101'\n",
            " '1.036414' '1.649974' '1.118436' '2.673638' '2.120185' '2.34222'\n",
            " '2.86099' '2.559571' '2.424977' '1.786841' '1.303878' '1.889883'\n",
            " '2.984004' '2.749268' '1.202075' '8.285111344444879' '2.341133'\n",
            " '1.206276' '2.81646' '1.758394' '2.577427' '2.052152' '2.954996'\n",
            " '2.555401' '2.108711' '2.915279' '1.570089' '1.94313' '2.903545'\n",
            " '1.75375' '2.543563' '2.39728' '2.37464' '2.278644' '1.620845' '2.061952'\n",
            " '2.838969' '2.568063' '2.652958' '1.27785' '1.729824' '1.452524'\n",
            " '2.303367' '2.948425' '2.291846' '1.906194' '1.834155' '2.048582'\n",
            " '2.948248' '2.869436' '2.293705' '2.510583' '2.366949' '2.615788'\n",
            " '2.217267' '2.801514' '2.188722' '2.971351' '2.086093' '1.901611'\n",
            " '1.977298' '2.446872' '2.839048' '2.21232' '2.427689' '1.078529'\n",
            " '1.064162' '1.993101' '2.620963' '2.95118' '2.021446' '2.000466' '2.5621'\n",
            " '2.96008' '2.53915' '2.244142' '2.253371' '2.851664' '1.31415' '1.321028'\n",
            " '2.253998' '2.778079' '2.838037' '2.814453' '2.013782' '2.459976'\n",
            " '2.643183' '2.22399' '2.104105' '1.972545' '2.286481' '2.971588'\n",
            " '2.872121' '2.109162' '2.178889' '1.142468' '2.047069' '2.843709'\n",
            " '2.416044' '2.146598' '1.766849' '1.188089' '1.910176' '2.956671'\n",
            " '2.002796' '2.288604' '2.138334' '2.029634' '2.048216' '2.8557'\n",
            " '2.995599' '2.987148' '1.887951' '2.786008' '2.342323' '1.874935'\n",
            " '2.213135' '2.273548' '2.780699' '1.687569' '1.989905' '1.947405'\n",
            " '2.162519' '2.923916' '2.99448' '2.507841' '1.836554' '1.773265'\n",
            " '2.388168' '2.286146' '2.487167' '2.185938' '2.206399' '1.952987'\n",
            " '2.908757' '2.628791' '2.749629' '1.595746' '2.885178' '2.372494'\n",
            " '8.706794695591519' '2.793561' '2.992329' '2.927409' '2.706134'\n",
            " '2.010684' '2.300408' '2.119643' '2.901924' '2.451009' '2.754646'\n",
            " '2.417635' '2.512719' '1.771693' '1.57223' '2.661556' '2.097373'\n",
            " '2.061461' '1.317729' '1.882235' '2.951591' '2.067817' '2.54527'\n",
            " '2.694281' '2.821977' '2.252472' '2.033745' '2.595128' '2.759286'\n",
            " '1.925064' '2.846981' '2.650629' '2.631565' '2.522399' '2.784471'\n",
            " '1.650505' '1.961347' '2.133955' '2.684528' '2.265973' '1.306844'\n",
            " '2.258795' '2.689929' '2.712747' '2.353603' '2.598051' '1.718156'\n",
            " '2.795086' '2.030256' '2.442536' '2.003951' '1.34138' '2.607335'\n",
            " '2.061384' '2.696381' '1.116068' '2.116432' '2.031246'\n",
            " '7.885792625948401' '2.884212' '2.444599' '2.976975' '2.766036'\n",
            " '1.096455' '2.129969' '2.019674' '2.735297' '1.588782' '2.01054'\n",
            " '2.689577' '2.413156' '2.923433' '2.882522' '1.973499' '2.992205'\n",
            " '2.944287' '1.780746' '2.164062' '2.247704' '2.011656' '2.03414'\n",
            " '2.746408' '2.1239' '2.332074' '2.748243' '2.303656' '1.904732'\n",
            " '1.979944' '2.407817' '2.734314' '2.784383' '2.009952' '2.008656'\n",
            " '1.122127' '1.963965' '2.319776' '1.899116' '2.042762' '2.129668'\n",
            " '2.182401' '2.802696' '2.492758' '2.733129' '2.294067' '2.315932'\n",
            " '2.802128' '2.79606' '2.086898' '2.333503' '1.653081' '2.535315'\n",
            " '2.765769' '2.215464' '2.63165' '2.942154' '2.716909' '1.83746'\n",
            " '1.936479' '2.045027' '2.760607' '2.09449' '2.907062' '2.399531'\n",
            " '1.521604' '2.501683' '2.76802' '2.742796' '2.325623' '2.076689'\n",
            " '2.271306' '2.33361' '2.13683' '2.909853' '2.490507' '1.063449'\n",
            " '2.699282' '2.4277' '2.87599' '2.177243' '2.846452' '2.19011' '2.069267'\n",
            " '1.362441' '8.015740980881588' '2.928234' '2.496455' '1.70825' '2.262171'\n",
            " '2.740633' '1.081585' '2.587789' '2.252653' '2.036613' '2.609123'\n",
            " '1.036159' '1.851262' '2.501236' '2.031185' '2.014194' '2.028225'\n",
            " '2.037585' '1.853314' '1.00876' '2.103335' '2.060922' '2.058687'\n",
            " '2.533605' '2.457547' '2.983851' '2.061969' '2.450784' '2.972426'\n",
            " '2.467002' '2.934671' '2.043359' '2.787589' '2.150054' '2.977585'\n",
            " '2.274491' '1.557287' '2.152264' '2.180047' '1.826885' '1.754401'\n",
            " '1.524428' '1.164062' '2.123159' '2.259679' '2.044326' '2.843456'\n",
            " '2.864776' '2.871137' '2.282803' '2.020502' '2.020785' '2.737149'\n",
            " '1.899793' '2.274164' '1.897796' '2.85916' '2.340405' '2.921576'\n",
            " '2.92711' '2.805533' '2.902469' '2.845961' '2.252698' '2.02091'\n",
            " '2.108163' '1.518966' '2.260543' '2.522183' '2.186322' '2.76632'\n",
            " '2.071622' '1.918251' '1.967061' '2.964419' '2.640801' '2.870152'\n",
            " '2.482575' '2.290095' '2.074843' '2.14128' '2.334474' '2.693859'\n",
            " '2.607747' '2.66889' '2.921225' '1.492834' '1.220024' '2.667676'\n",
            " '2.569075' '2.949242' '2.104772' '2.871768' '2.540949' '2.222282'\n",
            " '2.04516' '2.094184' '1.123672' '2.049112' '1.880534' '8.565565914361384'\n",
            " '2.73691' '2.736628' '2.121909' '2.642744' '2.387426' '1.996638'\n",
            " '2.107854' '2.253707' '2.393837' '2.348745' '2.312825' '2.490776'\n",
            " '2.078082' '2.805512' '1.276858' '2.396265' '2.663866' '2.685484'\n",
            " '2.055209' '2.025479' '2.002564' '2.385502' '2.465575' '2.818502'\n",
            " '2.081238' '1.368978' '1.712848' '1.3307' '1.961069' '2.976509'\n",
            " '2.319648' '1.261288' '2.76533' '2.317734' '1.588114' '2.549782'\n",
            " '2.206276' '2.18354' '2.962415' '1.99124' '2.408561' '2.758394'\n",
            " '2.956297' '1.369529' '1.392665' '2.630401' '2.869778' '1.868212'\n",
            " '1.108663' '2.907744' '2.95801' '2.197261' '2.048962' '2.139196'\n",
            " '2.72989' '1.994679' '2.403421' '2.964319' '1.617093' '1.631144'\n",
            " '2.317459' '2.501224' '2.983042' '2.323351' '1.428289' '1.992889'\n",
            " '1.562804' '1.794825' '2.305349' '2.576449' '2.754645' '2.633855'\n",
            " '2.200588' '2.499108' '2.05687' '2.247795' '2.239634' '2.09283' '2.9673'\n",
            " '2.225731' '2.178308' '2.065752' '2.263245' '2.443538' '2.744994'\n",
            " '2.630137' '2.113843' '2.821727' '2.312528' '2.938801' '2.050619'\n",
            " '1.457758' '2.19331' '2.028571' '1.455602' '2.177896' '7.75830884661519'\n",
            " '2.668949' '2.723953' '2.736298' '2.722161' '2.871016' '2.96405'\n",
            " '2.653721' '2.859097' '1.572036' '1.387489' '2.941929' '2.973569'\n",
            " '2.041376' '2.02472' '2.133964' '2.702457' '1.760038' '1.996646'\n",
            " '2.644094' '2.475892' '2.941627' '2.998441' '2.397284' '2.382705'\n",
            " '2.176317' '2.877743' '2.303041' '2.323003' '1.99953' '1.585183'\n",
            " '2.281963' '2.561638' '2.600217' '2.79166' '2.08868' '2.206119'\n",
            " '2.328469' '2.002784' '1.975675' '2.002076' '2.218599' '2.392179'\n",
            " '2.381164' '2.008245' '2.155182' '2.969233' '2.765063' '2.195964'\n",
            " '2.619987' '2.918113' '2.889485' '2.939727' '1.264234' '1.517912'\n",
            " '2.23372' '1.475906' '2.032883' '2.046651' '2.667229' '2.819934'\n",
            " '2.954417' '2.826251' '2.95841' '2.935157' '2.870895' '2.869833'\n",
            " '1.878251' '1.750809' '1.168856' '1.443674' '2.826036' '2.9553'\n",
            " '2.774562' '2.772027' '2.499626' '2.108638' '2.467548' '2.585942'\n",
            " '2.14961' '2.938616' '2.535154' '2.611222' '1.800122' '1.482722'\n",
            " '1.735664' '1.655684' '2.598207' '2.225149' '2.519592' '2.111887'\n",
            " '2.970983' '2.907542' '1.451337' '1.537505' '1.893428' '2.007845'\n",
            " '2.487781' '2.541785' '2.813775' '2.562687' '2.922511' '2.836055'\n",
            " '2.880759' '2.766441' '2.997524' '2.320201' '2.181057' '1.924632'\n",
            " '1.397468' '2.191429' '2.100177' '2.075321' '1.626369' '1.263216'\n",
            " '1.067909' '2.310751' '2.294259' '2.57649' '2.679664' '2.938687'\n",
            " '2.654792' '2.731368' '2.22259' '2.432355' '2.497548' '2.671238'\n",
            " '2.57691' '2.341999' '2.117121' '2.247037' '2.244654' '2.128574'\n",
            " '2.068834' '2.073224' '2.145114' '2.997951' '2.911312' '2.159033'\n",
            " '2.175276' '2.21965' '2.203962' '1.947495' '2.262292' '2.219186'\n",
            " '2.314175' '2.423291' '2.637202' '2.974006' '2.347942' '2.654076' '2.739'\n",
            " '2.591292' '2.611847' '2.766612' '2.777165' '2.232836' '2.571274'\n",
            " '2.49619' '2.151335' '2.01695' '2.927187' '1.412566' '1.289315'\n",
            " '1.624366' '1.528331' '2.037042' '2.191108' '1.431346' '1.84199'\n",
            " '2.499388' '2.230742' '2.240757' '2.996186' '2.649406' '2.525884'\n",
            " '2.736647' '2.684335' '2.425503' '1.469384' '2.906269' '2.808027'\n",
            " '2.636719' '2.996717' '2.880483' '2.885693' '2.913452' '2.919526'\n",
            " '2.724121' '2.801992' '2.748971' '2.680375']\n",
            "----------------------------------------\n",
            "Kolom: NCP - Jumlah Nilai Unik: 637\n",
            "Nilai unik: ['3' '1' '4' '10.84070601060834' nan '?' '11.23368726240087'\n",
            " '11.858467462996222' '3.28926' '3.995147' '1.72626' '2.581015' '1.600812'\n",
            " '1.73762' '1.10548' '2.0846' '1.894384' '2.857787' '3.765526' '3.285167'\n",
            " '3.691226' '3.156153' '1.07976' '3.559841' '3.891994' '3.240578'\n",
            " '3.904858' '3.11158' '3.590039' '2.057935' '3.558637' '2.000986'\n",
            " '3.821168' '3.897078' '3.092116' '3.286431' '3.592415' '3.754599'\n",
            " '3.566082' '3.725797' '3.520555' '3.731212' '1.259803' '1.273128'\n",
            " '3.304123' '3.647154' '3.300666' '3.535016' '1.717608' '2.884479'\n",
            " '3.626815' '1.473088' '3.16645' '3.494849' '2.99321' '2.127797' '3.90779'\n",
            " '3.699594' '3.179995' '1.075553' '3.238258' '3.804944' '1.630846'\n",
            " '3.762778' '3.371832' '2.705445' '3.34175' '2.217651' '2.893778'\n",
            " '3.502604' '3.998766' '3.193671' '1.69608' '2.812377' '1.612747'\n",
            " '1.082304' '1.882158' '2.326233' '1.989398' '1.735493' '2.974568'\n",
            " '3.715118' '3.489918' '3.378859' '3.263201' '3.994588' '3.24934'\n",
            " '3.087544' '1.163666' '3.409363' '3.281391' '3.98525' '3.207071'\n",
            " '3.471536' '3.488342' '3.443456' '3.03779' '3.642802' '2.645858'\n",
            " '3.420618' '2.64155' '3.887906' '3.435905' '3.747163' '2.625475'\n",
            " '3.098399' '3.12544' '3.96981' '3.712183' '3.832911' '3.576103' '3.56544'\n",
            " '3.266644' '3.433908' '3.531038' '3.998618' '1.226342' '1.060796'\n",
            " '3.595761' '3.737914' '3.697831' '3.21043' '3.45259' '3.205587'\n",
            " '1.513835' '2.779379' '3.732126' '3.937099' '3.047959' '2.975362'\n",
            " '1.394539' '3.131032' '1.578521' '3.985442' '3.623364' '3.36313'\n",
            " '1.146052' '3.981997' '1.9154' '2.105616' '3.714833' '3.292386'\n",
            " '1.104642' '3.654061' '1.296156' '2.656588' '2.809716' '2.77684'\n",
            " '1.999014' '2.644692' '2.449723' '2.794156' '1.146794' '1.131695'\n",
            " '2.488189' '3.999591' '3.612941' '3.950553' '2.951837' '2.799979'\n",
            " '2.228113' '3.042774' '1.198643' '1.555557' '3.987707' '3.995957'\n",
            " '1.047197' '1.193589' '3.390143' '3.546352' '3.266501' '3.554974'\n",
            " '2.372311' '2.10601' '3.715306' '3.376717' '1.211606' '3.98955'\n",
            " '3.171082' '3.105007' '1.590982' '1.704828' '2.725012' '2.372339'\n",
            " '1.097312' '1.068196' '2.752318' '2.737571' '2.973504' '2.608055'\n",
            " '2.625942' '1.411808' '1.095223' '3.30846' '3.821461' '2.658639'\n",
            " '2.339614' '1.713762' '2.743277' '3.051804' '3.245148' '3.563744'\n",
            " '3.829101' '3.058539' '3.196043' '1.391778' '1.13715' '3.322522'\n",
            " '3.269088' '2.938135' '1.259628' '2.965494' '2.845307' '3.095663'\n",
            " '3.483449' '3.156309' '3.728377' '3.60885' '3.370362' '2.39007'\n",
            " '1.101404' '2.756405' '12.076586854359581' '3.054899' '3.118013'\n",
            " '3.335876' '3.205009' '3.648194' '1.865238' '2.118153' '2.961113'\n",
            " '2.400943' '2.870005' '1.030416' '2.696051' '2.762883' '2.401341'\n",
            " '2.298612' '3.618722' '2.562895' '2.849848' '2.805436' '3.715148'\n",
            " '3.788602' '1.893811' '1.010319' '2.669766' '1.322087' '2.041558'\n",
            " '2.468421' '3.071028' '3.292956' '2.283673' '1.124977' '2.9948'\n",
            " '2.983297' '1.890213' '1.888067' '2.256119' '2.6648' '2.547086'\n",
            " '2.812283' '2.278652' '1.240046' '1.660768' '2.597608' '2.044035'\n",
            " '2.038373' '1.474836' '3.986652' '2.720642' '1.976744' '2.679724'\n",
            " '1.619796' '2.59257' '1.546665' '3.339914' '3.884861' '2.358298'\n",
            " '1.802305' '2.7976' '2.627173' '1.032887' '3.014808' '2.271734'\n",
            " '2.122545' '2.902766' '2.687502' '1.178708' '2.279546' '2.677693'\n",
            " '3.53009' '1.835543' '2.853676' '2.337035' '1.631184' '1.005391'\n",
            " '3.250467' '2.948721' '1.80993' '1.94671' '2.9796' '2.994198' '2.579291'\n",
            " '2.449067' '1.532833' '2.961706' '1.152521' '1.729553' '1.977221'\n",
            " '2.443812' '2.491315' '2.843319' '2.157164' '2.601675' '1.171027'\n",
            " '3.362758' '1.672706' '2.714115' '2.521546' '1.338033' '1.081805'\n",
            " '3.087119' '2.909117' '1.466393' '1.471053' '2.983201' '2.783336'\n",
            " '1.863012' '3.053598' '3.165837' '2.741413' '1.058123' '2.997414'\n",
            " '1.672958' '1.680838' '3.070386' '2.608416' '1.599464' '2.815255'\n",
            " '2.395785' '2.844138' '2.716106' '1.402771' '2.865657' '1.836226'\n",
            " '2.884848' '2.375026' '2.9774' '2.693646' '2.832018' '2.270163'\n",
            " '2.646717' '1.193729' '3.209508' '2.756622' '2.658478' '1.971472'\n",
            " '1.818026' '1.820779' '1.724887' '3.129155' '3.856434' '2.753418'\n",
            " '2.116195' '2.049908' '1.044628' '2.98212' '1.009426' '2.667711'\n",
            " '3.000974' '2.698883' '2.598079' '2.837388' '2.946063' '1.873484'\n",
            " '2.473911' '1.79558' '2.623079' '2.174968' '2.676148' '3.394788'\n",
            " '2.137068' '2.937607' '1.313403' '2.113575' '2.092179' '2.974204'\n",
            " '1.001633' '1.2919' '1.139317' '2.029858' '2.977543' '1.476204' '2.57038'\n",
            " '2.879541' '1.458507' '1.105617' '1.854536' '1.08687' '1.25535'\n",
            " '2.870661' '1.482103' '1.81698' '2.582591' '2.164839' '2.141839'\n",
            " '2.877583' '2.95833' '2.119826' '2.992606' '2.050121' '1.923607'\n",
            " '2.27374' '1.418985' '1.320768' '2.964024' '2.933409' '2.962004'\n",
            " '1.271624' '1.00061' '1.068443' '2.952821' '1.851088' '2.119682'\n",
            " '2.970675' '2.966803' '1.508685' '2.209314' '1.114564' '2.036794'\n",
            " '2.988539' '1.630506' '2.977999' '2.733077' '2.427137' '1.867836'\n",
            " '1.548407' '2.937989' '1.237454' '1.169173' '2.391753' '2.475444'\n",
            " '2.478794' '2.070033' '2.282392' '1.049534' '1.66338' '1.672751'\n",
            " '1.734762' '1.92822' '2.475228' '2.093831' '1.231915' '1.374791'\n",
            " '1.326982' '2.900915' '1.317884' '2.977909' '1.355752' '1.015488'\n",
            " '2.986172' '2.993623' '1.001383' '1.001542' '2.590283' '1.773916'\n",
            " '2.989112' '1.496776' '2.994046' '1.000283' '1.000414' '1.135278'\n",
            " '2.463113' '1.782109' '2.376374' '2.976098' '2.968098' '1.792695'\n",
            " '1.116401' '2.984523' '2.978103' '1.578751' '1.874532' '2.735706'\n",
            " '1.014916' '2.622055' '2.806566' '1.355354' '1.478334' '1.130751'\n",
            " '1.099151' '2.358455' '1.706551' '1.24884' '1.250548' '1.202179'\n",
            " '1.194815' '2.880817' '2.918124' '1.073421' '1.416309' '2.18162'\n",
            " '2.152733' '1.046144' '1.974233' '2.765213' '2.967089' '2.37985'\n",
            " '2.655265' '1.941307' '1.709546' '2.883984' '2.935381' '2.961192'\n",
            " '2.973476' '2.392811' '1.293342' '2.930044' '2.129909' '2.831771'\n",
            " '2.595126' '2.52751' '2.120936' '1.468948' '3.990925' '2.834253'\n",
            " '10.466014538158072' '3.734323' '2.049565' '2.272214' '2.218285'\n",
            " '1.418833' '1.109956' '3.914454' '10.651413708549228' '2.419656'\n",
            " '2.175432' '2.806298' '2.987652' '2.842848' '1.134321' '1.924168'\n",
            " '2.701689' '2.992903' '2.658837' '2.80742' '1.834472' '2.123138'\n",
            " '1.265463' '3.989492' '2.650088' '2.89292' '2.938902' '2.986637'\n",
            " '2.701521' '2.014671' '1.971659' '1.311797' '1.262831'\n",
            " '11.034914588735894' '3.770379' '2.87747' '2.175153' '2.993634'\n",
            " '2.999346' '2.976211' '2.842035' '1.09749' '1.91863' '2.510135' '2.65772'\n",
            " '2.604998' '2.567567' '2.434347' '1.845858' '1.627555' '1.569176'\n",
            " '2.371658' '2.378211' '2.301129' '2.454432' '2.915921' '2.992083'\n",
            " '2.849347' '2.954446' '3.755976' '2.902639' '2.372705' '2.100918'\n",
            " '2.272801' '2.692889' '2.675411' '1.487674' '1.02075' '1.240424'\n",
            " '1.154318' '3.219347' '3.656401' '3.220181' '2.850948' '2.187145'\n",
            " '2.415522' '2.138375' '1.077331' '2.888193' '11.4371305369625' '2.574108'\n",
            " '2.740492' '2.956422' '2.749334' '11.645353416668623' '2.993856'\n",
            " '2.993084' '2.989791' '2.920373' '2.911568' '1.134042' '1.120102'\n",
            " '2.040582' '2.015675' '2.711238' '2.695396' '2.996834' '2.996444'\n",
            " '2.894142' '2.683061' '2.806341' '2.791366' '1.703299' '1.685134'\n",
            " '2.269799' '2.142328' '1.437959' '1.343117' '1.213431' '1.089048'\n",
            " '12.299828447218045']\n",
            "----------------------------------------\n",
            "Kolom: SCC - Jumlah Nilai Unik: 3\n",
            "Nilai unik: ['no' 'yes' nan '?']\n",
            "----------------------------------------\n",
            "Kolom: SMOKE - Jumlah Nilai Unik: 3\n",
            "Nilai unik: ['no' 'yes' '?' nan]\n",
            "----------------------------------------\n",
            "Kolom: CH2O - Jumlah Nilai Unik: 1263\n",
            "Nilai unik: ['2' '3' '1' ... '2.054193' '2.852339' '2.863513']\n",
            "----------------------------------------\n",
            "Kolom: family_history_with_overweight - Jumlah Nilai Unik: 3\n",
            "Nilai unik: ['yes' 'no' nan '?']\n",
            "----------------------------------------\n",
            "Kolom: FAF - Jumlah Nilai Unik: 1186\n",
            "Nilai unik: ['0' '3' '2' ... '1.414209' '1.139107' '1.026452']\n",
            "----------------------------------------\n",
            "Kolom: TUE - Jumlah Nilai Unik: 1130\n",
            "Nilai unik: ['1' '0' '2' ... '0.646288' '0.586035' '0.714137']\n",
            "----------------------------------------\n",
            "Kolom: CAEC - Jumlah Nilai Unik: 5\n",
            "Nilai unik: ['Sometimes' 'Frequently' 'Always' 'no' nan '?']\n",
            "----------------------------------------\n",
            "Kolom: MTRANS - Jumlah Nilai Unik: 6\n",
            "Nilai unik: ['Public_Transportation' 'Walking' 'Automobile' 'Motorbike' 'Bike' '?' nan]\n",
            "----------------------------------------\n",
            "Kolom: NObeyesdad - Jumlah Nilai Unik: 7\n",
            "Nilai unik: ['Normal_Weight' 'Overweight_Level_I' 'Overweight_Level_II'\n",
            " 'Obesity_Type_I' 'Insufficient_Weight' 'Obesity_Type_II'\n",
            " 'Obesity_Type_III']\n",
            "----------------------------------------\n"
          ]
        }
      ]
    },
    {
      "cell_type": "markdown",
      "source": [
        "# EDA"
      ],
      "metadata": {
        "id": "rEzbg5JxaHKk"
      }
    },
    {
      "cell_type": "code",
      "execution_count": 10,
      "metadata": {
        "id": "ce48dd81-4b7c-40af-8a8e-15ebc7028c21",
        "outputId": "34bc95a4-b795-4564-f404-766710d9c1ea",
        "colab": {
          "base_uri": "https://localhost:8080/",
          "height": 617
        }
      },
      "outputs": [
        {
          "output_type": "execute_result",
          "data": {
            "text/plain": [
              "Age                               14\n",
              "Gender                             9\n",
              "Height                            12\n",
              "Weight                            11\n",
              "CALC                               5\n",
              "FAVC                              11\n",
              "FCVC                               8\n",
              "NCP                               12\n",
              "SCC                               10\n",
              "SMOKE                              5\n",
              "CH2O                               6\n",
              "family_history_with_overweight    13\n",
              "FAF                                8\n",
              "TUE                                9\n",
              "CAEC                              11\n",
              "MTRANS                             6\n",
              "NObeyesdad                         0\n",
              "dtype: int64"
            ],
            "text/html": [
              "<div>\n",
              "<style scoped>\n",
              "    .dataframe tbody tr th:only-of-type {\n",
              "        vertical-align: middle;\n",
              "    }\n",
              "\n",
              "    .dataframe tbody tr th {\n",
              "        vertical-align: top;\n",
              "    }\n",
              "\n",
              "    .dataframe thead th {\n",
              "        text-align: right;\n",
              "    }\n",
              "</style>\n",
              "<table border=\"1\" class=\"dataframe\">\n",
              "  <thead>\n",
              "    <tr style=\"text-align: right;\">\n",
              "      <th></th>\n",
              "      <th>0</th>\n",
              "    </tr>\n",
              "  </thead>\n",
              "  <tbody>\n",
              "    <tr>\n",
              "      <th>Age</th>\n",
              "      <td>14</td>\n",
              "    </tr>\n",
              "    <tr>\n",
              "      <th>Gender</th>\n",
              "      <td>9</td>\n",
              "    </tr>\n",
              "    <tr>\n",
              "      <th>Height</th>\n",
              "      <td>12</td>\n",
              "    </tr>\n",
              "    <tr>\n",
              "      <th>Weight</th>\n",
              "      <td>11</td>\n",
              "    </tr>\n",
              "    <tr>\n",
              "      <th>CALC</th>\n",
              "      <td>5</td>\n",
              "    </tr>\n",
              "    <tr>\n",
              "      <th>FAVC</th>\n",
              "      <td>11</td>\n",
              "    </tr>\n",
              "    <tr>\n",
              "      <th>FCVC</th>\n",
              "      <td>8</td>\n",
              "    </tr>\n",
              "    <tr>\n",
              "      <th>NCP</th>\n",
              "      <td>12</td>\n",
              "    </tr>\n",
              "    <tr>\n",
              "      <th>SCC</th>\n",
              "      <td>10</td>\n",
              "    </tr>\n",
              "    <tr>\n",
              "      <th>SMOKE</th>\n",
              "      <td>5</td>\n",
              "    </tr>\n",
              "    <tr>\n",
              "      <th>CH2O</th>\n",
              "      <td>6</td>\n",
              "    </tr>\n",
              "    <tr>\n",
              "      <th>family_history_with_overweight</th>\n",
              "      <td>13</td>\n",
              "    </tr>\n",
              "    <tr>\n",
              "      <th>FAF</th>\n",
              "      <td>8</td>\n",
              "    </tr>\n",
              "    <tr>\n",
              "      <th>TUE</th>\n",
              "      <td>9</td>\n",
              "    </tr>\n",
              "    <tr>\n",
              "      <th>CAEC</th>\n",
              "      <td>11</td>\n",
              "    </tr>\n",
              "    <tr>\n",
              "      <th>MTRANS</th>\n",
              "      <td>6</td>\n",
              "    </tr>\n",
              "    <tr>\n",
              "      <th>NObeyesdad</th>\n",
              "      <td>0</td>\n",
              "    </tr>\n",
              "  </tbody>\n",
              "</table>\n",
              "</div><br><label><b>dtype:</b> int64</label>"
            ]
          },
          "metadata": {},
          "execution_count": 10
        }
      ],
      "source": [
        "# Mengecek missing values\n",
        "df.isnull().sum()"
      ]
    },
    {
      "cell_type": "code",
      "execution_count": 11,
      "metadata": {
        "id": "fc4dddf9-5cd4-4760-a0a8-f0c9eef6588e",
        "outputId": "7c394501-2687-40fe-cbd6-f67facf06930",
        "colab": {
          "base_uri": "https://localhost:8080/"
        }
      },
      "outputs": [
        {
          "output_type": "execute_result",
          "data": {
            "text/plain": [
              "np.int64(18)"
            ]
          },
          "metadata": {},
          "execution_count": 11
        }
      ],
      "source": [
        "# Mengcek Duplikat\n",
        "df.duplicated().sum()"
      ]
    },
    {
      "cell_type": "code",
      "execution_count": 12,
      "metadata": {
        "id": "43dff9a5-d2e3-4c68-9751-6ad68ead55ef",
        "outputId": "65760395-52ef-49f4-e3b8-f607c4387ad0",
        "colab": {
          "base_uri": "https://localhost:8080/",
          "height": 617
        }
      },
      "outputs": [
        {
          "output_type": "execute_result",
          "data": {
            "text/plain": [
              "Age                               1394\n",
              "Gender                               3\n",
              "Height                            1562\n",
              "Weight                            1518\n",
              "CALC                                 5\n",
              "FAVC                                 3\n",
              "FCVC                               808\n",
              "NCP                                637\n",
              "SCC                                  3\n",
              "SMOKE                                3\n",
              "CH2O                              1263\n",
              "family_history_with_overweight       3\n",
              "FAF                               1186\n",
              "TUE                               1130\n",
              "CAEC                                 5\n",
              "MTRANS                               6\n",
              "NObeyesdad                           7\n",
              "dtype: int64"
            ],
            "text/html": [
              "<div>\n",
              "<style scoped>\n",
              "    .dataframe tbody tr th:only-of-type {\n",
              "        vertical-align: middle;\n",
              "    }\n",
              "\n",
              "    .dataframe tbody tr th {\n",
              "        vertical-align: top;\n",
              "    }\n",
              "\n",
              "    .dataframe thead th {\n",
              "        text-align: right;\n",
              "    }\n",
              "</style>\n",
              "<table border=\"1\" class=\"dataframe\">\n",
              "  <thead>\n",
              "    <tr style=\"text-align: right;\">\n",
              "      <th></th>\n",
              "      <th>0</th>\n",
              "    </tr>\n",
              "  </thead>\n",
              "  <tbody>\n",
              "    <tr>\n",
              "      <th>Age</th>\n",
              "      <td>1394</td>\n",
              "    </tr>\n",
              "    <tr>\n",
              "      <th>Gender</th>\n",
              "      <td>3</td>\n",
              "    </tr>\n",
              "    <tr>\n",
              "      <th>Height</th>\n",
              "      <td>1562</td>\n",
              "    </tr>\n",
              "    <tr>\n",
              "      <th>Weight</th>\n",
              "      <td>1518</td>\n",
              "    </tr>\n",
              "    <tr>\n",
              "      <th>CALC</th>\n",
              "      <td>5</td>\n",
              "    </tr>\n",
              "    <tr>\n",
              "      <th>FAVC</th>\n",
              "      <td>3</td>\n",
              "    </tr>\n",
              "    <tr>\n",
              "      <th>FCVC</th>\n",
              "      <td>808</td>\n",
              "    </tr>\n",
              "    <tr>\n",
              "      <th>NCP</th>\n",
              "      <td>637</td>\n",
              "    </tr>\n",
              "    <tr>\n",
              "      <th>SCC</th>\n",
              "      <td>3</td>\n",
              "    </tr>\n",
              "    <tr>\n",
              "      <th>SMOKE</th>\n",
              "      <td>3</td>\n",
              "    </tr>\n",
              "    <tr>\n",
              "      <th>CH2O</th>\n",
              "      <td>1263</td>\n",
              "    </tr>\n",
              "    <tr>\n",
              "      <th>family_history_with_overweight</th>\n",
              "      <td>3</td>\n",
              "    </tr>\n",
              "    <tr>\n",
              "      <th>FAF</th>\n",
              "      <td>1186</td>\n",
              "    </tr>\n",
              "    <tr>\n",
              "      <th>TUE</th>\n",
              "      <td>1130</td>\n",
              "    </tr>\n",
              "    <tr>\n",
              "      <th>CAEC</th>\n",
              "      <td>5</td>\n",
              "    </tr>\n",
              "    <tr>\n",
              "      <th>MTRANS</th>\n",
              "      <td>6</td>\n",
              "    </tr>\n",
              "    <tr>\n",
              "      <th>NObeyesdad</th>\n",
              "      <td>7</td>\n",
              "    </tr>\n",
              "  </tbody>\n",
              "</table>\n",
              "</div><br><label><b>dtype:</b> int64</label>"
            ]
          },
          "metadata": {},
          "execution_count": 12
        }
      ],
      "source": [
        "# Mengecek Nilai Unik\n",
        "df.nunique()"
      ]
    },
    {
      "cell_type": "code",
      "execution_count": 13,
      "metadata": {
        "id": "12868ed6-2006-42bf-9f24-71c1cac66c62"
      },
      "outputs": [],
      "source": [
        "# Konversi Kolom ke Numerik\n",
        "numeric_cols = ['Age', 'Height', 'Weight', 'FCVC', 'NCP', 'CH2O', 'FAF', 'TUE']\n",
        "df[numeric_cols] = df[numeric_cols].apply(pd.to_numeric, errors='coerce')"
      ]
    },
    {
      "cell_type": "code",
      "execution_count": 14,
      "metadata": {
        "id": "d3d17425-2baa-41c1-9778-66b8de1c56bf",
        "outputId": "32968479-14a8-4ff4-e67b-f7914d5aaa94",
        "colab": {
          "base_uri": "https://localhost:8080/",
          "height": 464
        }
      },
      "outputs": [
        {
          "output_type": "display_data",
          "data": {
            "text/plain": [
              "<Figure size 1500x1000 with 1 Axes>"
            ],
            "image/png": "[encoded data removed]"
          },
          "metadata": {}
        }
      ],
      "source": [
        "# Visualisasi Boxplot untuk Outlier\n",
        "plt.figure(figsize=(15, 10))\n",
        "sns.boxplot(data=df[numeric_cols])\n",
        "plt.xticks(rotation=45)\n",
        "plt.title(\"Boxplot untuk Deteksi Outlier\")\n",
        "plt.show()"
      ]
    },
    {
      "cell_type": "code",
      "execution_count": 15,
      "metadata": {
        "id": "9e41500e-af27-432a-acba-b0385bf2672f",
        "outputId": "b9742554-4504-4fc3-85a2-f98ff5f82a46",
        "colab": {
          "base_uri": "https://localhost:8080/",
          "height": 566
        }
      },
      "outputs": [
        {
          "output_type": "display_data",
          "data": {
            "text/plain": [
              "<Figure size 640x480 with 1 Axes>"
            ],
            "image/png": "[encoded data removed]"
          },
          "metadata": {}
        }
      ],
      "source": [
        "# Visualisasi Kelas Target\n",
        "sns.countplot(x='NObeyesdad', data=df)\n",
        "plt.xticks(rotation=45)\n",
        "plt.title(\"Distribusi Kategori Obesitas\")\n",
        "plt.show()"
      ]
    },
    {
      "cell_type": "code",
      "execution_count": 16,
      "metadata": {
        "id": "c2455656-513e-4dce-9481-0162db7d2f63"
      },
      "outputs": [],
      "source": [
        "# Menangani Missing Values & Tipe Data\n",
        "df.replace(['?', ' ', 'NA', 'na', 'NaN'], np.nan, inplace=True)\n",
        "df.drop_duplicates(inplace=True)"
      ]
    },
    {
      "cell_type": "code",
      "execution_count": 17,
      "metadata": {
        "id": "16517fe0-7f62-4a06-85ab-b6a5aba5cf3b"
      },
      "outputs": [],
      "source": [
        "# Mengubah kolom numerik ke float\n",
        "numeric_cols = ['Age', 'Height', 'Weight', 'FCVC', 'NCP', 'CH2O', 'FAF', 'TUE']\n",
        "for col in numeric_cols:\n",
        "    df[col] = pd.to_numeric(df[col], errors='coerce')"
      ]
    },
    {
      "cell_type": "code",
      "execution_count": 18,
      "metadata": {
        "id": "042af693-1892-4e36-8211-6699cb4c2566"
      },
      "outputs": [],
      "source": [
        "# Drop rows with missing values\n",
        "df.dropna(inplace=True)\n",
        "\n",
        "# Tangani Outlier (gunakan IQR method)\n",
        "for col in numeric_cols:\n",
        "    Q1 = df[col].quantile(0.25)\n",
        "    Q3 = df[col].quantile(0.75)\n",
        "    IQR = Q3 - Q1\n",
        "    lower = Q1 - 1.5 * IQR\n",
        "    upper = Q3 + 1.5 * IQR\n",
        "    df = df[(df[col] >= lower) & (df[col] <= upper)]"
      ]
    },
    {
      "cell_type": "code",
      "source": [
        "# Mengubahbah Data Kategori Menjadi Numerik\n",
        "\n",
        "# Import LabelEncoder\n",
        "from sklearn.preprocessing import LabelEncoder\n",
        "\n",
        "categorical_cols = df.select_dtypes(include='object').columns.tolist()\n",
        "categorical_cols.remove('NObeyesdad')  # ini target\n",
        "\n",
        "label_encoders = {}\n",
        "for col in categorical_cols:\n",
        "    le = LabelEncoder()\n",
        "    df[col] = le.fit_transform(df[col])\n",
        "    label_encoders[col] = le"
      ],
      "metadata": {
        "id": "Gl3V-XEya-bQ"
      },
      "execution_count": 20,
      "outputs": []
    },
    {
      "cell_type": "code",
      "execution_count": 21,
      "metadata": {
        "id": "1cd6b958-14b4-46f6-97a2-8655708baa10"
      },
      "outputs": [],
      "source": [
        "# Encode label (target)\n",
        "target_encoder = LabelEncoder()\n",
        "df['NObeyesdad'] = target_encoder.fit_transform(df['NObeyesdad'])"
      ]
    },
    {
      "cell_type": "code",
      "execution_count": 22,
      "metadata": {
        "id": "912ba6ec-3b7f-439c-b838-754ec653c271",
        "outputId": "e673de1e-7458-4698-b3d2-fc067a7e46b6",
        "colab": {
          "base_uri": "https://localhost:8080/",
          "height": 517
        }
      },
      "outputs": [
        {
          "output_type": "display_data",
          "data": {
            "text/plain": [
              "<Figure size 1200x800 with 2 Axes>"
            ],
            "image/png": "[encoded data removed]"
          },
          "metadata": {}
        }
      ],
      "source": [
        "# Mengecek Korelasi dan Seleksi Fitur\n",
        "plt.figure(figsize=(12, 8))\n",
        "sns.heatmap(df.corr(), annot=False, cmap='coolwarm')\n",
        "plt.title(\"Correlation Heatmap\")\n",
        "plt.show()"
      ]
    },
    {
      "cell_type": "code",
      "execution_count": 23,
      "metadata": {
        "id": "d663261b-4e98-4bea-b630-4f50b6cc750a"
      },
      "outputs": [],
      "source": [
        "# Seleksi fitur berdasarkan korelasi\n",
        "X = df.drop(columns=['NObeyesdad'])  # fitur\n",
        "y = df['NObeyesdad']  # target"
      ]
    },
    {
      "cell_type": "code",
      "source": [
        "# Mengatasi Ketidakseimbangan Kelas dengan SMOTE\n",
        "# Import SMOTE\n",
        "!pip install imblearn\n",
        "from imblearn.over_sampling import SMOTE\n",
        "\n",
        "smote = SMOTE(random_state=42)\n",
        "X_balanced, y_balanced = smote.fit_resample(X, y)"
      ],
      "metadata": {
        "colab": {
          "base_uri": "https://localhost:8080/"
        },
        "id": "ONKBfZnnbF_n",
        "outputId": "306356cd-8558-4b7a-b637-84410a385b92"
      },
      "execution_count": 25,
      "outputs": [
        {
          "output_type": "stream",
          "name": "stdout",
          "text": [
            "Collecting imblearn\n",
            "  Downloading imblearn-0.0-py2.py3-none-any.whl.metadata (355 bytes)\n",
            "Requirement already satisfied: imbalanced-learn in /usr/local/lib/python3.11/dist-packages (from imblearn) (0.13.0)\n",
            "Requirement already satisfied: numpy<3,>=1.24.3 in /usr/local/lib/python3.11/dist-packages (from imbalanced-learn->imblearn) (2.0.2)\n",
            "Requirement already satisfied: scipy<2,>=1.10.1 in /usr/local/lib/python3.11/dist-packages (from imbalanced-learn->imblearn) (1.15.3)\n",
            "Requirement already satisfied: scikit-learn<2,>=1.3.2 in /usr/local/lib/python3.11/dist-packages (from imbalanced-learn->imblearn) (1.6.1)\n",
            "Requirement already satisfied: sklearn-compat<1,>=0.1 in /usr/local/lib/python3.11/dist-packages (from imbalanced-learn->imblearn) (0.1.3)\n",
            "Requirement already satisfied: joblib<2,>=1.1.1 in /usr/local/lib/python3.11/dist-packages (from imbalanced-learn->imblearn) (1.5.0)\n",
            "Requirement already satisfied: threadpoolctl<4,>=2.0.0 in /usr/local/lib/python3.11/dist-packages (from imbalanced-learn->imblearn) (3.6.0)\n",
            "Downloading imblearn-0.0-py2.py3-none-any.whl (1.9 kB)\n",
            "Installing collected packages: imblearn\n",
            "Successfully installed imblearn-0.0\n"
          ]
        }
      ]
    },
    {
      "cell_type": "code",
      "source": [
        "# Normalisasi Data\n",
        "from sklearn.preprocessing import StandardScaler\n",
        "\n",
        "scaler = StandardScaler()\n",
        "X_scaled = scaler.fit_transform(X_balanced)"
      ],
      "metadata": {
        "id": "gCyKUxRwbNGU"
      },
      "execution_count": 27,
      "outputs": []
    },
    {
      "cell_type": "code",
      "execution_count": 28,
      "metadata": {
        "id": "527a839d-b229-4ff2-a6c9-bfcdda5dde62",
        "outputId": "3df92aec-a701-4542-d8fb-ea1839051cdd",
        "colab": {
          "base_uri": "https://localhost:8080/"
        }
      },
      "outputs": [
        {
          "output_type": "stream",
          "name": "stdout",
          "text": [
            "Jumlah sampel setelah SMOTE: 1820\n",
            "Distribusi kelas:\n",
            " NObeyesdad\n",
            "1    260\n",
            "5    260\n",
            "2    260\n",
            "6    260\n",
            "3    260\n",
            "0    260\n",
            "4    260\n",
            "Name: count, dtype: int64\n"
          ]
        }
      ],
      "source": [
        "print(\"Jumlah sampel setelah SMOTE:\", len(y_balanced))\n",
        "print(\"Distribusi kelas:\\n\", pd.Series(y_balanced).value_counts())"
      ]
    }
  ]
}